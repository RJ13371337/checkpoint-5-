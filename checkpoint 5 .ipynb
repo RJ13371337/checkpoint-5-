{
 "cells": [
  {
   "cell_type": "code",
   "execution_count": 14,
   "id": "095079b0",
   "metadata": {},
   "outputs": [
    {
     "name": "stdout",
     "output_type": "stream",
     "text": [
      "(1, 2, 3)\n"
     ]
    }
   ],
   "source": [
    "class Point3d:\n",
    "    def __init__(self, x, y, z):\n",
    "        self.x = x\n",
    "        self.y = y\n",
    "        self.z = z    \n",
    "    def __repr__(self):\n",
    "        return f\"({self.x}, {self.y}, {self.z})\"\n",
    "my_point = Point3d(1, 2, 3)\n",
    "print(my_point) "
   ]
  },
  {
   "cell_type": "code",
   "execution_count": 21,
   "id": "2b3f30c6",
   "metadata": {},
   "outputs": [
    {
     "name": "stdout",
     "output_type": "stream",
     "text": [
      "Area: 12\n",
      "Perimeter: 14\n"
     ]
    }
   ],
   "source": [
    "class Rectangle:\n",
    "    def __init__(self, length, width):\n",
    "        self.length = length\n",
    "        self.width = width\n",
    "    \n",
    "    def area(self):\n",
    "        return self.length * self.width\n",
    "    \n",
    "    def perimeter(self):\n",
    "        return 2 * (self.length + self.width)\n",
    "\n",
    "my_rectangle = Rectangle(3, 4)\n",
    "\n",
    "area = my_rectangle.area()\n",
    "perimeter = my_rectangle.perimeter()\n",
    "\n",
    "print(\"Area:\", area)\n",
    "print(\"Perimeter:\", perimeter)\n"
   ]
  },
  {
   "cell_type": "code",
   "execution_count": 22,
   "id": "3f0d51b4",
   "metadata": {},
   "outputs": [],
   "source": [
    "import math\n",
    "\n",
    "class Circle:\n",
    "    def __init__(self, x, y, r):\n",
    "        self.x = x\n",
    "        self.y = y\n",
    "        self.r = r\n",
    "    \n",
    "    def area(self):\n",
    "        return math.pi * self.r * self.r\n",
    "    \n",
    "    def perimeter(self):\n",
    "        return 2 * math.pi * self.r\n",
    "    \n",
    "    def is_inside(self, x, y):\n",
    "        distance = math.sqrt((x - self.x)**2 + (y - self.y)**2)\n",
    "        return distance < self.r\n"
   ]
  },
  {
   "cell_type": "code",
   "execution_count": 24,
   "id": "6444a642",
   "metadata": {},
   "outputs": [],
   "source": [
    "class Bank:\n",
    "    def __init__(self, balance=0.0):\n",
    "        self.balance = balance\n",
    "    \n",
    "    def deposit(self, amount):\n",
    "        self.balance += amount\n",
    "        return self.balance\n",
    "    \n",
    "    def withdraw(self, amount):\n",
    "        if amount > self.balance:\n",
    "            raise ValueError(\"Insufficient funds\")\n",
    "        self.balance -= amount\n",
    "        return self.balance\n"
   ]
  },
  {
   "cell_type": "code",
   "execution_count": 26,
   "id": "3b85033a",
   "metadata": {},
   "outputs": [
    {
     "name": "stdout",
     "output_type": "stream",
     "text": [
      "180.0\n",
      "130.0\n"
     ]
    }
   ],
   "source": [
    "account = Bank(100.0)\n",
    "\n",
    "print(account.deposit(80.0))  \n",
    "print(account.withdraw(50.0))  \n"
   ]
  },
  {
   "cell_type": "code",
   "execution_count": null,
   "id": "2c151d4c",
   "metadata": {},
   "outputs": [],
   "source": []
  }
 ],
 "metadata": {
  "kernelspec": {
   "display_name": "Python 3 (ipykernel)",
   "language": "python",
   "name": "python3"
  },
  "language_info": {
   "codemirror_mode": {
    "name": "ipython",
    "version": 3
   },
   "file_extension": ".py",
   "mimetype": "text/x-python",
   "name": "python",
   "nbconvert_exporter": "python",
   "pygments_lexer": "ipython3",
   "version": "3.9.13"
  }
 },
 "nbformat": 4,
 "nbformat_minor": 5
}
